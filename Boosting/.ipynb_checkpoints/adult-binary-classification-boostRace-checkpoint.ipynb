{
 "cells": [
  {
   "cell_type": "code",
   "execution_count": 66,
   "metadata": {},
   "outputs": [
    {
     "name": "stdout",
     "output_type": "stream",
     "text": [
      "Requirement already satisfied: xgboost in /home/majesty-dump/anaconda3/lib/python3.8/site-packages (1.7.2)\n",
      "Collecting lightgbm\n",
      "  Downloading lightgbm-3.3.3-py3-none-manylinux1_x86_64.whl (2.0 MB)\n",
      "\u001b[K     |████████████████████████████████| 2.0 MB 1.3 MB/s eta 0:00:01\n",
      "\u001b[?25hCollecting catboost\n",
      "  Downloading catboost-1.1.1-cp38-none-manylinux1_x86_64.whl (76.6 MB)\n",
      "\u001b[K     |████████████████████████████████| 76.6 MB 565 kB/s eta 0:00:01\n",
      "\u001b[?25hRequirement already satisfied: ipywidgets in /home/majesty-dump/anaconda3/lib/python3.8/site-packages (7.5.1)\n",
      "Requirement already satisfied: scipy in /home/majesty-dump/anaconda3/lib/python3.8/site-packages (from xgboost) (1.5.2)\n",
      "Requirement already satisfied: numpy in /home/majesty-dump/anaconda3/lib/python3.8/site-packages (from xgboost) (1.19.2)\n",
      "Requirement already satisfied: wheel in /home/majesty-dump/anaconda3/lib/python3.8/site-packages (from lightgbm) (0.35.1)\n",
      "Requirement already satisfied: scikit-learn!=0.22.0 in /home/majesty-dump/anaconda3/lib/python3.8/site-packages (from lightgbm) (0.23.2)\n",
      "Collecting plotly\n",
      "  Downloading plotly-5.11.0-py2.py3-none-any.whl (15.3 MB)\n",
      "\u001b[K     |████████████████████████████████| 15.3 MB 421 kB/s eta 0:00:01\n",
      "\u001b[?25hRequirement already satisfied: matplotlib in /home/majesty-dump/anaconda3/lib/python3.8/site-packages (from catboost) (3.3.2)\n",
      "Collecting graphviz\n",
      "  Downloading graphviz-0.20.1-py3-none-any.whl (47 kB)\n",
      "\u001b[K     |████████████████████████████████| 47 kB 572 kB/s eta 0:00:01\n",
      "\u001b[?25hRequirement already satisfied: pandas>=0.24.0 in /home/majesty-dump/anaconda3/lib/python3.8/site-packages (from catboost) (1.1.3)\n",
      "Requirement already satisfied: six in /home/majesty-dump/anaconda3/lib/python3.8/site-packages (from catboost) (1.15.0)\n",
      "Requirement already satisfied: nbformat>=4.2.0 in /home/majesty-dump/anaconda3/lib/python3.8/site-packages (from ipywidgets) (5.0.8)\n",
      "Requirement already satisfied: ipython>=4.0.0; python_version >= \"3.3\" in /home/majesty-dump/anaconda3/lib/python3.8/site-packages (from ipywidgets) (7.19.0)\n",
      "Requirement already satisfied: traitlets>=4.3.1 in /home/majesty-dump/anaconda3/lib/python3.8/site-packages (from ipywidgets) (5.0.5)\n",
      "Requirement already satisfied: widgetsnbextension~=3.5.0 in /home/majesty-dump/anaconda3/lib/python3.8/site-packages (from ipywidgets) (3.5.1)\n",
      "Requirement already satisfied: ipykernel>=4.5.1 in /home/majesty-dump/anaconda3/lib/python3.8/site-packages (from ipywidgets) (5.3.4)\n",
      "Requirement already satisfied: threadpoolctl>=2.0.0 in /home/majesty-dump/anaconda3/lib/python3.8/site-packages (from scikit-learn!=0.22.0->lightgbm) (2.1.0)\n",
      "Requirement already satisfied: joblib>=0.11 in /home/majesty-dump/anaconda3/lib/python3.8/site-packages (from scikit-learn!=0.22.0->lightgbm) (0.17.0)\n",
      "Collecting tenacity>=6.2.0\n",
      "  Downloading tenacity-8.1.0-py3-none-any.whl (23 kB)\n",
      "Requirement already satisfied: cycler>=0.10 in /home/majesty-dump/anaconda3/lib/python3.8/site-packages (from matplotlib->catboost) (0.10.0)\n",
      "Requirement already satisfied: kiwisolver>=1.0.1 in /home/majesty-dump/anaconda3/lib/python3.8/site-packages (from matplotlib->catboost) (1.3.0)\n",
      "Requirement already satisfied: pyparsing!=2.0.4,!=2.1.2,!=2.1.6,>=2.0.3 in /home/majesty-dump/anaconda3/lib/python3.8/site-packages (from matplotlib->catboost) (2.4.7)\n",
      "Requirement already satisfied: python-dateutil>=2.1 in /home/majesty-dump/anaconda3/lib/python3.8/site-packages (from matplotlib->catboost) (2.8.1)\n",
      "Requirement already satisfied: pillow>=6.2.0 in /home/majesty-dump/anaconda3/lib/python3.8/site-packages (from matplotlib->catboost) (9.0.1)\n",
      "Requirement already satisfied: certifi>=2020.06.20 in /home/majesty-dump/anaconda3/lib/python3.8/site-packages (from matplotlib->catboost) (2020.6.20)\n",
      "Requirement already satisfied: pytz>=2017.2 in /home/majesty-dump/anaconda3/lib/python3.8/site-packages (from pandas>=0.24.0->catboost) (2019.3)\n",
      "Requirement already satisfied: ipython-genutils in /home/majesty-dump/anaconda3/lib/python3.8/site-packages (from nbformat>=4.2.0->ipywidgets) (0.2.0)\n",
      "Requirement already satisfied: jsonschema!=2.5.0,>=2.4 in /home/majesty-dump/anaconda3/lib/python3.8/site-packages (from nbformat>=4.2.0->ipywidgets) (3.2.0)\n",
      "Requirement already satisfied: jupyter-core in /home/majesty-dump/anaconda3/lib/python3.8/site-packages (from nbformat>=4.2.0->ipywidgets) (4.6.3)\n",
      "Requirement already satisfied: prompt-toolkit!=3.0.0,!=3.0.1,<3.1.0,>=2.0.0 in /home/majesty-dump/anaconda3/lib/python3.8/site-packages (from ipython>=4.0.0; python_version >= \"3.3\"->ipywidgets) (3.0.8)\n",
      "Requirement already satisfied: pickleshare in /home/majesty-dump/anaconda3/lib/python3.8/site-packages (from ipython>=4.0.0; python_version >= \"3.3\"->ipywidgets) (0.7.5)\n",
      "Requirement already satisfied: setuptools>=18.5 in /home/majesty-dump/anaconda3/lib/python3.8/site-packages (from ipython>=4.0.0; python_version >= \"3.3\"->ipywidgets) (50.3.1.post20201107)\n",
      "Requirement already satisfied: jedi>=0.10 in /home/majesty-dump/anaconda3/lib/python3.8/site-packages (from ipython>=4.0.0; python_version >= \"3.3\"->ipywidgets) (0.17.1)\n",
      "Requirement already satisfied: decorator in /home/majesty-dump/anaconda3/lib/python3.8/site-packages (from ipython>=4.0.0; python_version >= \"3.3\"->ipywidgets) (4.4.2)\n",
      "Requirement already satisfied: pygments in /home/majesty-dump/anaconda3/lib/python3.8/site-packages (from ipython>=4.0.0; python_version >= \"3.3\"->ipywidgets) (2.7.2)\n",
      "Requirement already satisfied: backcall in /home/majesty-dump/anaconda3/lib/python3.8/site-packages (from ipython>=4.0.0; python_version >= \"3.3\"->ipywidgets) (0.2.0)\n",
      "Requirement already satisfied: pexpect>4.3; sys_platform != \"win32\" in /home/majesty-dump/anaconda3/lib/python3.8/site-packages (from ipython>=4.0.0; python_version >= \"3.3\"->ipywidgets) (4.8.0)\n",
      "Requirement already satisfied: notebook>=4.4.1 in /home/majesty-dump/anaconda3/lib/python3.8/site-packages (from widgetsnbextension~=3.5.0->ipywidgets) (6.1.4)\n",
      "Requirement already satisfied: tornado>=4.2 in /home/majesty-dump/anaconda3/lib/python3.8/site-packages (from ipykernel>=4.5.1->ipywidgets) (6.0.4)\n",
      "Requirement already satisfied: jupyter-client in /home/majesty-dump/anaconda3/lib/python3.8/site-packages (from ipykernel>=4.5.1->ipywidgets) (6.1.7)\n",
      "Requirement already satisfied: attrs>=17.4.0 in /home/majesty-dump/anaconda3/lib/python3.8/site-packages (from jsonschema!=2.5.0,>=2.4->nbformat>=4.2.0->ipywidgets) (20.3.0)\n",
      "Requirement already satisfied: pyrsistent>=0.14.0 in /home/majesty-dump/anaconda3/lib/python3.8/site-packages (from jsonschema!=2.5.0,>=2.4->nbformat>=4.2.0->ipywidgets) (0.17.3)\n",
      "Requirement already satisfied: wcwidth in /home/majesty-dump/anaconda3/lib/python3.8/site-packages (from prompt-toolkit!=3.0.0,!=3.0.1,<3.1.0,>=2.0.0->ipython>=4.0.0; python_version >= \"3.3\"->ipywidgets) (0.2.5)\n",
      "Requirement already satisfied: parso<0.8.0,>=0.7.0 in /home/majesty-dump/anaconda3/lib/python3.8/site-packages (from jedi>=0.10->ipython>=4.0.0; python_version >= \"3.3\"->ipywidgets) (0.7.0)\n",
      "Requirement already satisfied: ptyprocess>=0.5 in /home/majesty-dump/anaconda3/lib/python3.8/site-packages (from pexpect>4.3; sys_platform != \"win32\"->ipython>=4.0.0; python_version >= \"3.3\"->ipywidgets) (0.6.0)\n",
      "Requirement already satisfied: terminado>=0.8.3 in /home/majesty-dump/anaconda3/lib/python3.8/site-packages (from notebook>=4.4.1->widgetsnbextension~=3.5.0->ipywidgets) (0.9.1)\n",
      "Requirement already satisfied: jinja2 in /home/majesty-dump/anaconda3/lib/python3.8/site-packages (from notebook>=4.4.1->widgetsnbextension~=3.5.0->ipywidgets) (2.11.2)\n",
      "Requirement already satisfied: nbconvert in /home/majesty-dump/anaconda3/lib/python3.8/site-packages (from notebook>=4.4.1->widgetsnbextension~=3.5.0->ipywidgets) (6.0.7)\n",
      "Requirement already satisfied: Send2Trash in /home/majesty-dump/anaconda3/lib/python3.8/site-packages (from notebook>=4.4.1->widgetsnbextension~=3.5.0->ipywidgets) (1.5.0)\n",
      "Requirement already satisfied: argon2-cffi in /home/majesty-dump/anaconda3/lib/python3.8/site-packages (from notebook>=4.4.1->widgetsnbextension~=3.5.0->ipywidgets) (20.1.0)\n",
      "Requirement already satisfied: pyzmq>=17 in /home/majesty-dump/anaconda3/lib/python3.8/site-packages (from notebook>=4.4.1->widgetsnbextension~=3.5.0->ipywidgets) (19.0.2)\n",
      "Requirement already satisfied: prometheus-client in /home/majesty-dump/anaconda3/lib/python3.8/site-packages (from notebook>=4.4.1->widgetsnbextension~=3.5.0->ipywidgets) (0.8.0)\n",
      "Requirement already satisfied: MarkupSafe>=0.23 in /home/majesty-dump/anaconda3/lib/python3.8/site-packages (from jinja2->notebook>=4.4.1->widgetsnbextension~=3.5.0->ipywidgets) (1.1.1)\n",
      "Requirement already satisfied: entrypoints>=0.2.2 in /home/majesty-dump/anaconda3/lib/python3.8/site-packages (from nbconvert->notebook>=4.4.1->widgetsnbextension~=3.5.0->ipywidgets) (0.3)\n",
      "Requirement already satisfied: mistune<2,>=0.8.1 in /home/majesty-dump/anaconda3/lib/python3.8/site-packages (from nbconvert->notebook>=4.4.1->widgetsnbextension~=3.5.0->ipywidgets) (0.8.4)\n",
      "Requirement already satisfied: jupyterlab-pygments in /home/majesty-dump/anaconda3/lib/python3.8/site-packages (from nbconvert->notebook>=4.4.1->widgetsnbextension~=3.5.0->ipywidgets) (0.1.2)\n",
      "Requirement already satisfied: bleach in /home/majesty-dump/anaconda3/lib/python3.8/site-packages (from nbconvert->notebook>=4.4.1->widgetsnbextension~=3.5.0->ipywidgets) (3.2.1)\n",
      "Requirement already satisfied: testpath in /home/majesty-dump/anaconda3/lib/python3.8/site-packages (from nbconvert->notebook>=4.4.1->widgetsnbextension~=3.5.0->ipywidgets) (0.4.4)\n"
     ]
    },
    {
     "name": "stdout",
     "output_type": "stream",
     "text": [
      "Requirement already satisfied: pandocfilters>=1.4.1 in /home/majesty-dump/anaconda3/lib/python3.8/site-packages (from nbconvert->notebook>=4.4.1->widgetsnbextension~=3.5.0->ipywidgets) (1.4.3)\n",
      "Requirement already satisfied: defusedxml in /home/majesty-dump/anaconda3/lib/python3.8/site-packages (from nbconvert->notebook>=4.4.1->widgetsnbextension~=3.5.0->ipywidgets) (0.7.1)\n",
      "Requirement already satisfied: nbclient<0.6.0,>=0.5.0 in /home/majesty-dump/anaconda3/lib/python3.8/site-packages (from nbconvert->notebook>=4.4.1->widgetsnbextension~=3.5.0->ipywidgets) (0.5.1)\n",
      "Requirement already satisfied: cffi>=1.0.0 in /home/majesty-dump/anaconda3/lib/python3.8/site-packages (from argon2-cffi->notebook>=4.4.1->widgetsnbextension~=3.5.0->ipywidgets) (1.14.3)\n",
      "Requirement already satisfied: webencodings in /home/majesty-dump/anaconda3/lib/python3.8/site-packages (from bleach->nbconvert->notebook>=4.4.1->widgetsnbextension~=3.5.0->ipywidgets) (0.5.1)\n",
      "Requirement already satisfied: packaging in /home/majesty-dump/anaconda3/lib/python3.8/site-packages (from bleach->nbconvert->notebook>=4.4.1->widgetsnbextension~=3.5.0->ipywidgets) (20.4)\n",
      "Requirement already satisfied: async-generator in /home/majesty-dump/anaconda3/lib/python3.8/site-packages (from nbclient<0.6.0,>=0.5.0->nbconvert->notebook>=4.4.1->widgetsnbextension~=3.5.0->ipywidgets) (1.10)\n",
      "Requirement already satisfied: nest-asyncio in /home/majesty-dump/anaconda3/lib/python3.8/site-packages (from nbclient<0.6.0,>=0.5.0->nbconvert->notebook>=4.4.1->widgetsnbextension~=3.5.0->ipywidgets) (1.4.2)\n",
      "Requirement already satisfied: pycparser in /home/majesty-dump/anaconda3/lib/python3.8/site-packages (from cffi>=1.0.0->argon2-cffi->notebook>=4.4.1->widgetsnbextension~=3.5.0->ipywidgets) (2.20)\n",
      "Installing collected packages: lightgbm, tenacity, plotly, graphviz, catboost\n",
      "Successfully installed catboost-1.1.1 graphviz-0.20.1 lightgbm-3.3.3 plotly-5.11.0 tenacity-8.1.0\n"
     ]
    }
   ],
   "source": [
    "!pip install xgboost lightgbm catboost ipywidgets"
   ]
  },
  {
   "cell_type": "code",
   "execution_count": 1,
   "metadata": {},
   "outputs": [
    {
     "name": "stdout",
     "output_type": "stream",
     "text": [
      "Enabling notebook extension jupyter-js-widgets/extension...\r\n",
      "      - Validating: \u001b[32mOK\u001b[0m\r\n"
     ]
    }
   ],
   "source": [
    "!jupyter nbextension enable --py widgetsnbextension"
   ]
  },
  {
   "cell_type": "code",
   "execution_count": 2,
   "metadata": {},
   "outputs": [],
   "source": [
    "import pandas as pd\n",
    "from sklearn.preprocessing import OrdinalEncoder, LabelEncoder, OneHotEncoder"
   ]
  },
  {
   "cell_type": "code",
   "execution_count": 3,
   "metadata": {},
   "outputs": [
    {
     "name": "stdout",
     "output_type": "stream",
     "text": [
      "Categorical variables:\n",
      "['workclass', 'education', 'marital-status', 'occupation', 'relationship', 'race', 'sex', 'native-country', 'income-pred']\n"
     ]
    }
   ],
   "source": [
    "\n",
    "data = pd.read_csv('adult.data', header = 0)\n",
    "\n",
    "s = (data.dtypes == 'object')\n",
    "object_cols = list(s[s].index)\n",
    "\n",
    "print(\"Categorical variables:\")\n",
    "print(object_cols)"
   ]
  },
  {
   "cell_type": "code",
   "execution_count": 4,
   "metadata": {},
   "outputs": [],
   "source": [
    "data.describe()\n",
    "data_copy = data.copy()"
   ]
  },
  {
   "cell_type": "markdown",
   "metadata": {},
   "source": [
    "## Change pipeline:\n",
    "Ordinal encoding is usable only for 'education', 'income-pred', 'workclass ???'\n",
    "\n",
    "One-hot is better for 'relationship', 'race', 'native-country'?"
   ]
  },
  {
   "cell_type": "code",
   "execution_count": 5,
   "metadata": {},
   "outputs": [],
   "source": [
    "ordinal_encoder = OrdinalEncoder()\n",
    "onehot_encoder = OneHotEncoder()\n",
    "label_encoder = LabelEncoder()\n",
    "\n",
    "\n",
    "ordinal_encoding_labels = [\"education\", \"workclass\"]\n",
    "label_encoding_labels = [\"income-pred\"]\n",
    "one_hot_encoding_labels = [\"relationship\", \"race\", \"native-country\", \"marital-status\"]\n"
   ]
  },
  {
   "cell_type": "code",
   "execution_count": 6,
   "metadata": {},
   "outputs": [
    {
     "name": "stdout",
     "output_type": "stream",
     "text": [
      "Index(['age', 'workclass', 'fnlwgt', 'education', 'education-num',\n",
      "       'occupation', 'sex', 'capitl-gain', 'capital-loss', 'hours-per-week',\n",
      "       'income-pred', 'relationship_ Husband', 'relationship_ Not-in-family',\n",
      "       'relationship_ Other-relative', 'relationship_ Own-child',\n",
      "       'relationship_ Unmarried', 'relationship_ Wife',\n",
      "       'race_ Amer-Indian-Eskimo', 'race_ Asian-Pac-Islander', 'race_ Black',\n",
      "       'race_ Other', 'race_ White', 'native-country_ ?',\n",
      "       'native-country_ Cambodia', 'native-country_ Canada',\n",
      "       'native-country_ China', 'native-country_ Columbia',\n",
      "       'native-country_ Cuba', 'native-country_ Dominican-Republic',\n",
      "       'native-country_ Ecuador', 'native-country_ El-Salvador',\n",
      "       'native-country_ England', 'native-country_ France',\n",
      "       'native-country_ Germany', 'native-country_ Greece',\n",
      "       'native-country_ Guatemala', 'native-country_ Haiti',\n",
      "       'native-country_ Holand-Netherlands', 'native-country_ Honduras',\n",
      "       'native-country_ Hong', 'native-country_ Hungary',\n",
      "       'native-country_ India', 'native-country_ Iran',\n",
      "       'native-country_ Ireland', 'native-country_ Italy',\n",
      "       'native-country_ Jamaica', 'native-country_ Japan',\n",
      "       'native-country_ Laos', 'native-country_ Mexico',\n",
      "       'native-country_ Nicaragua',\n",
      "       'native-country_ Outlying-US(Guam-USVI-etc)', 'native-country_ Peru',\n",
      "       'native-country_ Philippines', 'native-country_ Poland',\n",
      "       'native-country_ Portugal', 'native-country_ Puerto-Rico',\n",
      "       'native-country_ Scotland', 'native-country_ South',\n",
      "       'native-country_ Taiwan', 'native-country_ Thailand',\n",
      "       'native-country_ Trinadad&Tobago', 'native-country_ United-States',\n",
      "       'native-country_ Vietnam', 'native-country_ Yugoslavia',\n",
      "       'marital-status_ Divorced', 'marital-status_ Married-AF-spouse',\n",
      "       'marital-status_ Married-civ-spouse',\n",
      "       'marital-status_ Married-spouse-absent',\n",
      "       'marital-status_ Never-married', 'marital-status_ Separated',\n",
      "       'marital-status_ Widowed'],\n",
      "      dtype='object')\n"
     ]
    }
   ],
   "source": [
    "one_hot_encoded_data = pd.get_dummies(data_copy, columns=one_hot_encoding_labels)\n",
    "print(one_hot_encoded_data.keys())"
   ]
  },
  {
   "cell_type": "code",
   "execution_count": 7,
   "metadata": {},
   "outputs": [],
   "source": [
    "final_data = one_hot_encoded_data.apply(label_encoder.fit_transform)\n"
   ]
  },
  {
   "cell_type": "code",
   "execution_count": 8,
   "metadata": {},
   "outputs": [],
   "source": [
    "y_data = final_data.pop('income-pred')"
   ]
  },
  {
   "cell_type": "code",
   "execution_count": 9,
   "metadata": {},
   "outputs": [
    {
     "data": {
      "text/plain": [
       "0        0\n",
       "1        0\n",
       "2        0\n",
       "3        0\n",
       "4        0\n",
       "        ..\n",
       "32556    0\n",
       "32557    1\n",
       "32558    0\n",
       "32559    0\n",
       "32560    1\n",
       "Name: income-pred, Length: 32561, dtype: int64"
      ]
     },
     "execution_count": 9,
     "metadata": {},
     "output_type": "execute_result"
    }
   ],
   "source": [
    "y_data"
   ]
  },
  {
   "cell_type": "code",
   "execution_count": 42,
   "metadata": {},
   "outputs": [],
   "source": [
    "from xgboost import XGBClassifier\n",
    "from sklearn.metrics import accuracy_score\n",
    "\n",
    "# read data\n",
    "from sklearn.datasets import load_iris\n",
    "from sklearn.model_selection import train_test_split\n",
    "X_train, X_test, y_train, y_test = train_test_split(final_data, y_data, test_size=.2)"
   ]
  },
  {
   "cell_type": "markdown",
   "metadata": {},
   "source": [
    "# XGB"
   ]
  },
  {
   "cell_type": "code",
   "execution_count": 43,
   "metadata": {},
   "outputs": [
    {
     "name": "stdout",
     "output_type": "stream",
     "text": [
      "Accuracy: 74.76%\n"
     ]
    }
   ],
   "source": [
    "bst = XGBClassifier(n_estimators=10, learning_rate=5, objective='binary:logistic')\n",
    "# fit model\n",
    "bst.fit(X_train, y_train)\n",
    "# make predictions\n",
    "preds = bst.predict(X_test)\n",
    "accuracy = accuracy_score(y_test, preds)\n",
    "print(\"Accuracy: %.2f%%\" % (accuracy * 100.0))"
   ]
  },
  {
   "cell_type": "markdown",
   "metadata": {},
   "source": [
    "# CAT"
   ]
  },
  {
   "cell_type": "code",
   "execution_count": 52,
   "metadata": {},
   "outputs": [
    {
     "data": {
      "application/vnd.jupyter.widget-view+json": {
       "model_id": "4091a5d5e32e40f990b3ea7d21166815",
       "version_major": 2,
       "version_minor": 0
      },
      "text/plain": [
       "MetricVisualizer(layout=Layout(align_self='stretch', height='500px'))"
      ]
     },
     "metadata": {},
     "output_type": "display_data"
    },
    {
     "name": "stdout",
     "output_type": "stream",
     "text": [
      "Accuracy: 85.83%\n"
     ]
    }
   ],
   "source": [
    "from catboost import CatBoostClassifier, Pool, cv\n",
    "\n",
    "\n",
    "# cat_features = [0]\n",
    "\n",
    "# cv_dataset = Pool(data=X_train,\n",
    "#                   label=y_train,\n",
    "#                   cat_features=cat_features)\n",
    "\n",
    "# params = {\"iterations\": 100,\n",
    "#           \"depth\": 5,\n",
    "#           \"loss_function\": \"Logloss\",\n",
    "#           \"verbose\": False,\n",
    "#           \"roc_file\": \"roc-file\"}\n",
    "\n",
    "# scores = cv(cv_dataset,\n",
    "#             params,\n",
    "#             fold_count=5,\n",
    "#             plot=False,\n",
    "#             verbose=False)\n",
    "\n",
    "ctbst = CatBoostClassifier(learning_rate=0.5,\n",
    "                           n_estimators=10,\n",
    "                          )\n",
    "\n",
    "ctbst.fit(X_train,\n",
    "       y_train,\n",
    "       verbose=False,\n",
    "       plot=True)\n",
    "\n",
    "preds = ctbst.predict(X_test)\n",
    "accuracy = accuracy_score(y_test, preds)\n",
    "print(\"Accuracy: %.2f%%\" % (accuracy * 100.0))"
   ]
  },
  {
   "cell_type": "markdown",
   "metadata": {},
   "source": [
    "# LightGBM"
   ]
  },
  {
   "cell_type": "code",
   "execution_count": 53,
   "metadata": {},
   "outputs": [
    {
     "name": "stdout",
     "output_type": "stream",
     "text": [
      "[1]\ttraining's binary_logloss: 0.385912\tvalid_0's binary_logloss: 0.387976\n",
      "[2]\ttraining's binary_logloss: 0.339816\tvalid_0's binary_logloss: 0.346993\n",
      "[3]\ttraining's binary_logloss: 0.314791\tvalid_0's binary_logloss: 0.324145\n",
      "[4]\ttraining's binary_logloss: 0.2994\tvalid_0's binary_logloss: 0.311762\n",
      "[5]\ttraining's binary_logloss: 0.289539\tvalid_0's binary_logloss: 0.304911\n",
      "[6]\ttraining's binary_logloss: 0.28299\tvalid_0's binary_logloss: 0.301909\n",
      "[7]\ttraining's binary_logloss: 0.276971\tvalid_0's binary_logloss: 0.299447\n",
      "[8]\ttraining's binary_logloss: 0.271565\tvalid_0's binary_logloss: 0.296037\n",
      "[9]\ttraining's binary_logloss: 0.268412\tvalid_0's binary_logloss: 0.294695\n",
      "[10]\ttraining's binary_logloss: 0.264431\tvalid_0's binary_logloss: 0.292138\n",
      "[11]\ttraining's binary_logloss: 0.261495\tvalid_0's binary_logloss: 0.291284\n",
      "[12]\ttraining's binary_logloss: 0.258972\tvalid_0's binary_logloss: 0.292025\n",
      "[13]\ttraining's binary_logloss: 0.256927\tvalid_0's binary_logloss: 0.292528\n",
      "[14]\ttraining's binary_logloss: 0.255028\tvalid_0's binary_logloss: 0.292902\n",
      "[15]\ttraining's binary_logloss: 0.252858\tvalid_0's binary_logloss: 0.293027\n",
      "[16]\ttraining's binary_logloss: 0.251144\tvalid_0's binary_logloss: 0.294068\n",
      "[17]\ttraining's binary_logloss: 0.249484\tvalid_0's binary_logloss: 0.294486\n",
      "[18]\ttraining's binary_logloss: 0.251191\tvalid_0's binary_logloss: 0.299275\n",
      "[19]\ttraining's binary_logloss: 0.247568\tvalid_0's binary_logloss: 0.295311\n",
      "[20]\ttraining's binary_logloss: 0.246178\tvalid_0's binary_logloss: 0.296025\n",
      "[21]\ttraining's binary_logloss: 0.244656\tvalid_0's binary_logloss: 0.296624\n",
      "[22]\ttraining's binary_logloss: 0.243187\tvalid_0's binary_logloss: 0.297253\n",
      "[23]\ttraining's binary_logloss: 0.241324\tvalid_0's binary_logloss: 0.297609\n",
      "[24]\ttraining's binary_logloss: 0.239127\tvalid_0's binary_logloss: 0.298779\n",
      "[25]\ttraining's binary_logloss: 0.237608\tvalid_0's binary_logloss: 0.298386\n",
      "[26]\ttraining's binary_logloss: 0.236166\tvalid_0's binary_logloss: 0.298315\n",
      "[27]\ttraining's binary_logloss: 0.234735\tvalid_0's binary_logloss: 0.298693\n",
      "[28]\ttraining's binary_logloss: 0.233212\tvalid_0's binary_logloss: 0.299293\n",
      "[29]\ttraining's binary_logloss: 0.231477\tvalid_0's binary_logloss: 0.299803\n",
      "[30]\ttraining's binary_logloss: 0.230399\tvalid_0's binary_logloss: 0.299748\n",
      "[31]\ttraining's binary_logloss: 0.229323\tvalid_0's binary_logloss: 0.300033\n",
      "[32]\ttraining's binary_logloss: 0.228159\tvalid_0's binary_logloss: 0.300852\n",
      "[33]\ttraining's binary_logloss: 0.227406\tvalid_0's binary_logloss: 0.301291\n",
      "[34]\ttraining's binary_logloss: 0.226347\tvalid_0's binary_logloss: 0.301581\n",
      "[35]\ttraining's binary_logloss: 0.224537\tvalid_0's binary_logloss: 0.301279\n",
      "[36]\ttraining's binary_logloss: 0.223332\tvalid_0's binary_logloss: 0.300987\n",
      "[37]\ttraining's binary_logloss: 0.22207\tvalid_0's binary_logloss: 0.302071\n",
      "[38]\ttraining's binary_logloss: 0.226072\tvalid_0's binary_logloss: 0.30974\n",
      "[39]\ttraining's binary_logloss: 0.221549\tvalid_0's binary_logloss: 0.306973\n",
      "[40]\ttraining's binary_logloss: 0.220289\tvalid_0's binary_logloss: 0.30668\n",
      "[41]\ttraining's binary_logloss: 0.21881\tvalid_0's binary_logloss: 0.305659\n",
      "[42]\ttraining's binary_logloss: 0.217859\tvalid_0's binary_logloss: 0.305912\n",
      "[43]\ttraining's binary_logloss: 0.219024\tvalid_0's binary_logloss: 0.308758\n",
      "[44]\ttraining's binary_logloss: 0.216773\tvalid_0's binary_logloss: 0.309988\n",
      "[45]\ttraining's binary_logloss: 0.21569\tvalid_0's binary_logloss: 0.310825\n",
      "[46]\ttraining's binary_logloss: 0.214333\tvalid_0's binary_logloss: 0.310656\n",
      "[47]\ttraining's binary_logloss: 0.213332\tvalid_0's binary_logloss: 0.311215\n",
      "[48]\ttraining's binary_logloss: 0.212356\tvalid_0's binary_logloss: 0.311648\n",
      "[49]\ttraining's binary_logloss: 0.211111\tvalid_0's binary_logloss: 0.312179\n",
      "[50]\ttraining's binary_logloss: 0.210084\tvalid_0's binary_logloss: 0.312205\n",
      "[51]\ttraining's binary_logloss: 0.208965\tvalid_0's binary_logloss: 0.311846\n",
      "[52]\ttraining's binary_logloss: 0.207766\tvalid_0's binary_logloss: 0.31221\n",
      "[53]\ttraining's binary_logloss: 0.206175\tvalid_0's binary_logloss: 0.312219\n",
      "[54]\ttraining's binary_logloss: 0.205523\tvalid_0's binary_logloss: 0.312621\n",
      "[55]\ttraining's binary_logloss: 0.204056\tvalid_0's binary_logloss: 0.312776\n",
      "[56]\ttraining's binary_logloss: 0.203101\tvalid_0's binary_logloss: 0.313597\n",
      "[57]\ttraining's binary_logloss: 0.202593\tvalid_0's binary_logloss: 0.31405\n",
      "[58]\ttraining's binary_logloss: 0.201757\tvalid_0's binary_logloss: 0.314298\n",
      "[59]\ttraining's binary_logloss: 0.20098\tvalid_0's binary_logloss: 0.314677\n",
      "[60]\ttraining's binary_logloss: 0.200442\tvalid_0's binary_logloss: 0.315417\n",
      "[61]\ttraining's binary_logloss: 0.199375\tvalid_0's binary_logloss: 0.315996\n",
      "[62]\ttraining's binary_logloss: 0.197832\tvalid_0's binary_logloss: 0.316617\n",
      "[63]\ttraining's binary_logloss: 0.196621\tvalid_0's binary_logloss: 0.31712\n",
      "[64]\ttraining's binary_logloss: 0.19559\tvalid_0's binary_logloss: 0.317202\n",
      "[65]\ttraining's binary_logloss: 0.194885\tvalid_0's binary_logloss: 0.317173\n",
      "[66]\ttraining's binary_logloss: 0.193796\tvalid_0's binary_logloss: 0.317227\n",
      "[67]\ttraining's binary_logloss: 0.192731\tvalid_0's binary_logloss: 0.317764\n",
      "[68]\ttraining's binary_logloss: 0.191521\tvalid_0's binary_logloss: 0.317094\n",
      "[69]\ttraining's binary_logloss: 0.189982\tvalid_0's binary_logloss: 0.31819\n",
      "[70]\ttraining's binary_logloss: 0.189284\tvalid_0's binary_logloss: 0.317874\n",
      "[71]\ttraining's binary_logloss: 0.188086\tvalid_0's binary_logloss: 0.318848\n",
      "[72]\ttraining's binary_logloss: 0.186977\tvalid_0's binary_logloss: 0.319452\n",
      "[73]\ttraining's binary_logloss: 0.185845\tvalid_0's binary_logloss: 0.31999\n",
      "[74]\ttraining's binary_logloss: 0.184611\tvalid_0's binary_logloss: 0.320428\n",
      "[75]\ttraining's binary_logloss: 0.183883\tvalid_0's binary_logloss: 0.320508\n",
      "[76]\ttraining's binary_logloss: 0.18279\tvalid_0's binary_logloss: 0.320779\n",
      "[77]\ttraining's binary_logloss: 0.181917\tvalid_0's binary_logloss: 0.320564\n",
      "[78]\ttraining's binary_logloss: 0.181152\tvalid_0's binary_logloss: 0.320782\n",
      "[79]\ttraining's binary_logloss: 0.180052\tvalid_0's binary_logloss: 0.321693\n",
      "[80]\ttraining's binary_logloss: 0.179145\tvalid_0's binary_logloss: 0.32224\n",
      "[81]\ttraining's binary_logloss: 0.177871\tvalid_0's binary_logloss: 0.322866\n",
      "[82]\ttraining's binary_logloss: 0.176656\tvalid_0's binary_logloss: 0.323622\n",
      "[83]\ttraining's binary_logloss: 0.176126\tvalid_0's binary_logloss: 0.324346\n",
      "[84]\ttraining's binary_logloss: 0.174967\tvalid_0's binary_logloss: 0.324347\n",
      "[85]\ttraining's binary_logloss: 0.173647\tvalid_0's binary_logloss: 0.324998\n",
      "[86]\ttraining's binary_logloss: 0.172909\tvalid_0's binary_logloss: 0.32553\n",
      "[87]\ttraining's binary_logloss: 0.171732\tvalid_0's binary_logloss: 0.326024\n",
      "[88]\ttraining's binary_logloss: 0.171351\tvalid_0's binary_logloss: 0.326678\n",
      "[89]\ttraining's binary_logloss: 0.170097\tvalid_0's binary_logloss: 0.327827\n",
      "[90]\ttraining's binary_logloss: 0.1691\tvalid_0's binary_logloss: 0.328382\n",
      "[91]\ttraining's binary_logloss: 0.167929\tvalid_0's binary_logloss: 0.328834\n",
      "[92]\ttraining's binary_logloss: 0.166978\tvalid_0's binary_logloss: 0.329367\n",
      "[93]\ttraining's binary_logloss: 0.166228\tvalid_0's binary_logloss: 0.329954\n",
      "[94]\ttraining's binary_logloss: 0.165709\tvalid_0's binary_logloss: 0.330333\n",
      "[95]\ttraining's binary_logloss: 0.165275\tvalid_0's binary_logloss: 0.330713\n",
      "[96]\ttraining's binary_logloss: 0.164515\tvalid_0's binary_logloss: 0.33046\n",
      "[97]\ttraining's binary_logloss: 0.163453\tvalid_0's binary_logloss: 0.331056\n",
      "[98]\ttraining's binary_logloss: 0.162287\tvalid_0's binary_logloss: 0.331235\n",
      "[99]\ttraining's binary_logloss: 0.16129\tvalid_0's binary_logloss: 0.331572\n",
      "[100]\ttraining's binary_logloss: 0.160802\tvalid_0's binary_logloss: 0.331962\n",
      "Accuracy: 85.89%\n"
     ]
    }
   ],
   "source": [
    "from lightgbm import LGBMClassifier\n",
    "lgbst = LGBMClassifier(learning_rate=0.5, max_depth=-5,random_state=42)\n",
    "lgbst.fit(X_train,y_train,eval_set=[(X_test,y_test),(X_train,y_train)],eval_metric='logloss')\n",
    "\n",
    "preds = lgbst.predict(X_test)\n",
    "\n",
    "accuracy = accuracy_score(y_test, preds)\n",
    "print(\"Accuracy: %.2f%%\" % (accuracy * 100.0))"
   ]
  },
  {
   "cell_type": "code",
   "execution_count": null,
   "metadata": {},
   "outputs": [],
   "source": []
  }
 ],
 "metadata": {
  "kernelspec": {
   "display_name": "Python 3",
   "language": "python",
   "name": "python3"
  },
  "language_info": {
   "codemirror_mode": {
    "name": "ipython",
    "version": 3
   },
   "file_extension": ".py",
   "mimetype": "text/x-python",
   "name": "python",
   "nbconvert_exporter": "python",
   "pygments_lexer": "ipython3",
   "version": "3.8.5"
  }
 },
 "nbformat": 4,
 "nbformat_minor": 5
}
